{
 "cells": [
  {
   "cell_type": "code",
   "execution_count": null,
   "metadata": {},
   "outputs": [],
   "source": [
    "import pandas as pd\n",
    "import numpy as np"
   ]
  },
  {
   "cell_type": "code",
   "execution_count": 171,
   "metadata": {},
   "outputs": [],
   "source": [
    "pro1 = [93, 30, 55]\n",
    "spd1 = [1, 30, 5]\n",
    "#return [2, 1]\n",
    "\n",
    "pro2 = [95, 90, 99, 99, 80, 99]\n",
    "spd2 = [1, 1, 1, 1, 1, 1]\n",
    "#return [1, 3, 2]\n",
    "\n",
    "progresses = pro2\n",
    "speeds = spd2"
   ]
  },
  {
   "cell_type": "code",
   "execution_count": 172,
   "metadata": {},
   "outputs": [],
   "source": [
    "np_pro = np.array(progresses)\n",
    "np_spd = np.array(speeds)"
   ]
  },
  {
   "cell_type": "code",
   "execution_count": 173,
   "metadata": {},
   "outputs": [],
   "source": [
    "dplo = np.ceil((100-np_pro)/np_spd).astype(int)\n",
    "dp_len = np.arange(len(dplo))"
   ]
  },
  {
   "cell_type": "code",
   "execution_count": 174,
   "metadata": {},
   "outputs": [],
   "source": [
    "start = dplo[0]\n",
    "t = 0\n",
    "compl = list()\n",
    "\n",
    "for i in dp_len :\n",
    "    if start < dplo[i]:\n",
    "        start = dplo[i]\n",
    "        t = t+1\n",
    "    compl = compl + [t]\n",
    "\n",
    "df_com = pd.DataFrame(zip(compl,list(dp_len)),columns=['round','cou'])\n",
    "ans = list(df_com.groupby('round').count()['cou'])"
   ]
  },
  {
   "cell_type": "code",
   "execution_count": 175,
   "metadata": {},
   "outputs": [
    {
     "data": {
      "text/plain": [
       "[0, 1, 1, 1, 2, 2]"
      ]
     },
     "execution_count": 175,
     "metadata": {},
     "output_type": "execute_result"
    }
   ],
   "source": [
    "compl"
   ]
  },
  {
   "cell_type": "code",
   "execution_count": 169,
   "metadata": {},
   "outputs": [
    {
     "name": "stdout",
     "output_type": "stream",
     "text": [
      "[2, 1]\n"
     ]
    }
   ],
   "source": [
    "print(ans)"
   ]
  },
  {
   "cell_type": "code",
   "execution_count": null,
   "metadata": {},
   "outputs": [],
   "source": [
    "# list(filter(lambda x: x < 5, range(10))) #python filter"
   ]
  }
 ],
 "metadata": {
  "interpreter": {
   "hash": "b3ba2566441a7c06988d0923437866b63cedc61552a5af99d1f4fb67d367b25f"
  },
  "kernelspec": {
   "display_name": "Python 3.9.7 ('base')",
   "language": "python",
   "name": "python3"
  },
  "language_info": {
   "codemirror_mode": {
    "name": "ipython",
    "version": 3
   },
   "file_extension": ".py",
   "mimetype": "text/x-python",
   "name": "python",
   "nbconvert_exporter": "python",
   "pygments_lexer": "ipython3",
   "version": "3.8.3"
  },
  "orig_nbformat": 4
 },
 "nbformat": 4,
 "nbformat_minor": 2
}
