{
 "cells": [
  {
   "cell_type": "code",
   "execution_count": null,
   "metadata": {},
   "outputs": [],
   "source": [
    "import pandas as pd"
   ]
  },
  {
   "cell_type": "code",
   "execution_count": null,
   "metadata": {},
   "outputs": [],
   "source": [
    "pro1 = [93, 30, 55]\n",
    "spd1 = [1, 30, 5]\n",
    "#return [2, 1]\n",
    "\n",
    "pro2 = [95, 90, 99, 99, 80, 99]\n",
    "spd2 = [1, 1, 1, 1, 1, 1]\n",
    "#return [1, 3, 2\n",
    "\n",
    "progresses = pro1\n",
    "speeds = spd1"
   ]
  },
  {
   "cell_type": "code",
   "execution_count": null,
   "metadata": {},
   "outputs": [],
   "source": []
  }
 ],
 "metadata": {
  "language_info": {
   "name": "python"
  },
  "orig_nbformat": 4
 },
 "nbformat": 4,
 "nbformat_minor": 2
}
