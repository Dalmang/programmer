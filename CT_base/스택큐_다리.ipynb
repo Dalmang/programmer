{
 "cells": [
  {
   "cell_type": "code",
   "execution_count": 2,
   "metadata": {},
   "outputs": [],
   "source": [
    "import pandas as pd\n",
    "import numpy as np"
   ]
  },
  {
   "cell_type": "code",
   "execution_count": 1,
   "metadata": {},
   "outputs": [],
   "source": [
    "# bridge_length = 100\n",
    "# weight = 100\n",
    "# truck_weights = [10]\n",
    "# # return = 101\n",
    "\n",
    "\n",
    "# bridge_length = 2\n",
    "# weight = 10\n",
    "# truck_weights = [7,4,5,6]\n",
    "# return 8\n",
    "\n",
    "bridge_length = 100\n",
    "weight = 100\n",
    "truck_weights = [10,10,10,10,10,10,10,10,10,10]\n",
    "# return 110\n"
   ]
  },
  {
   "cell_type": "code",
   "execution_count": 3,
   "metadata": {},
   "outputs": [],
   "source": [
    "in_bridge = list(np.zeros(bridge_length,dtype='i')) #다리 초기길이\n",
    "count = 0\n",
    "insum_bridge = 1\n",
    "\n",
    "while insum_bridge != 0 :\n",
    "    try:\n",
    "        next_bridge = sum(in_bridge[1:]) + truck_weights[0] #다음에 트럭이 들어갈 수 있는지 예상\n",
    "    except IndexError:\n",
    "        next_bridge = insum_bridge\n",
    "\n",
    "    if next_bridge <= weight :\n",
    "        in_bridge.pop(0)\n",
    "        try:\n",
    "            in_bridge.append(truck_weights.pop(0))\n",
    "        except IndexError:\n",
    "            in_bridge.append(0)\n",
    "\n",
    "    # elif skipbri<=0 :\n",
    "    #     in_bridge.pop(0)\n",
    "    #     in_bridge.append(0)\n",
    "\n",
    "    else : #brige skip #skip을 다리길이로 하지말고 0을 제거하고 추가하는 방법으로!\n",
    "        df_bri = pd.DataFrame(in_bridge)[0]\n",
    "        skipbri = df_bri[df_bri>0].index[0] #0이 아닌 위치 탐색\n",
    "\n",
    "        if skipbri==0 : #다음에 바로 트럭이 나올 경우\n",
    "            in_bridge.pop(0)\n",
    "            in_bridge.append(0)\n",
    "\n",
    "        else : #brige skip\n",
    "            skip_bridge = in_bridge[skipbri:]\n",
    "            in_bridge = skip_bridge + list(np.zeros(skipbri,dtype='i'))\n",
    "\n",
    "            count = count + skipbri-1 #count에서 +1되는것을 빼줌\n",
    "\n",
    "    # else : #brige skip #skip을 다리길이로 하지말고 0을 제거하고 추가하는 방법으로!\n",
    "    #     skip_bridge = in_bridge[skipbri:]\n",
    "    #     in_bridge = skip_bridge + list(np.zeros(skipbri,dtype='i'))\n",
    "\n",
    "    #     count = count + skipbri\n",
    "        \n",
    "\n",
    "    insum_bridge = sum(in_bridge)\n",
    "    count += 1\n",
    "    # print(count,in_bridge)\n"
   ]
  },
  {
   "cell_type": "code",
   "execution_count": 4,
   "metadata": {},
   "outputs": [
    {
     "data": {
      "text/plain": [
       "110"
      ]
     },
     "execution_count": 4,
     "metadata": {},
     "output_type": "execute_result"
    }
   ],
   "source": [
    "count"
   ]
  },
  {
   "cell_type": "code",
   "execution_count": 52,
   "metadata": {},
   "outputs": [],
   "source": [
    "# #과거 버전\n",
    "\n",
    "\n",
    "# in_bridge = list(np.zeros(bridge_length,dtype='i')) #다리 초기길이\n",
    "# count = 0\n",
    "# insum_bridge = 1\n",
    "\n",
    "# while insum_bridge != 0 :\n",
    "#     try:\n",
    "#         next_bridge = sum(in_bridge[1:]) + truck_weights[0] #다음에 들어갈 수 있는지 계산\n",
    "#     except IndexError:\n",
    "#         next_bridge = insum_bridge\n",
    "\n",
    "#     if next_bridge <= weight :\n",
    "#         in_bridge.pop(0)\n",
    "#         try:\n",
    "#             in_bridge.append(truck_weights.pop(0))\n",
    "#         except IndexError:\n",
    "#             in_bridge.append(0)\n",
    "\n",
    "#     else :\n",
    "#         in_bridge.pop(0)\n",
    "#         in_bridge.append(0)\n",
    "\n",
    "#     insum_bridge = sum(in_bridge)\n",
    "#     count += 1\n"
   ]
  },
  {
   "cell_type": "markdown",
   "metadata": {},
   "source": [
    "pop으로 풀어봤다. 다음 다리를 미리 계산해서 weight를 넘을 것 같으면 추가함\n",
    "예외 처리를 통해 다리에 아무 것도 없으면 그냥 '0'을 집어 넣도록 해봤다\n",
    "\n",
    "pop으로 푸는거 만만히 봤다가 시간초과/(2,5) 내 이럴줄 알았다.\n",
    "보다 단순화 시키는 알고리즘을 고민해보자 → 빈공간을 While이 아닌 넘기는 로직\n",
    "\n",
    "22.05.10\n",
    "skip기능을 만들었는데 다리가 짧으면 변수가 생긴다. if문을 써야하나..\n",
    "skip을 다리길이가 아닌 앞에 0을 제거하고 그만큼 추가하는 방법으로 재구성 필요!\n",
    "속도는 두번째 skip방법이 빨라졌는데 런타임 에러가뜸.. while문에서 변수가 있나봄!"
   ]
  },
  {
   "cell_type": "code",
   "execution_count": 83,
   "metadata": {},
   "outputs": [
    {
     "data": {
      "text/plain": [
       "[1, 0, 0, 0, 3, 0, 0]"
      ]
     },
     "execution_count": 83,
     "metadata": {},
     "output_type": "execute_result"
    }
   ],
   "source": [
    "# #다리 스킵 기능 연구\n",
    "\n",
    "# test_list = [0,0,1,0,0,0,3]\n",
    "\n",
    "# df_test = pd.DataFrame(test_list)[0]\n",
    "# skipbri = df_test[df_test>0].index[0] #0이 아닌 위치 탐색\n",
    "\n",
    "# test_val = test_list[skipbri:]\n",
    "# test_val+list(np.zeros(skipbri,dtype='i'))"
   ]
  }
 ],
 "metadata": {
  "interpreter": {
   "hash": "1cca9558bc5ad879ec93cc030b157d75f18267527c60932cecaace349eef54dd"
  },
  "kernelspec": {
   "display_name": "Python 3.8.3 ('base')",
   "language": "python",
   "name": "python3"
  },
  "language_info": {
   "codemirror_mode": {
    "name": "ipython",
    "version": 3
   },
   "file_extension": ".py",
   "mimetype": "text/x-python",
   "name": "python",
   "nbconvert_exporter": "python",
   "pygments_lexer": "ipython3",
   "version": "3.8.3"
  },
  "orig_nbformat": 4
 },
 "nbformat": 4,
 "nbformat_minor": 2
}
