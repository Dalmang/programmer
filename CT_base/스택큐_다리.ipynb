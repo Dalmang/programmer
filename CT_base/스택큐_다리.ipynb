{
 "cells": [
  {
   "cell_type": "code",
   "execution_count": 107,
   "metadata": {},
   "outputs": [],
   "source": [
    "import pandas as pd\n",
    "import numpy as np"
   ]
  },
  {
   "cell_type": "code",
   "execution_count": 108,
   "metadata": {},
   "outputs": [],
   "source": [
    "bridge_length = 100\n",
    "weight = 100\n",
    "truck_weights = [10]\n",
    "# return = 101\n",
    "\n",
    "\n",
    "# bridge_length = 2\n",
    "# weight = 10\n",
    "# truck_weights = [7,4,5,6]\n",
    "# return 8"
   ]
  },
  {
   "cell_type": "code",
   "execution_count": 109,
   "metadata": {},
   "outputs": [],
   "source": [
    "in_bridge = list(np.zeros(bridge_length,dtype='i')) #다리 초기길이\n",
    "count = 0\n",
    "insum_bridge = 1\n",
    "\n",
    "while insum_bridge != 0 :\n",
    "    try:\n",
    "        next_bridge = sum(in_bridge[1:]) + truck_weights[0]\n",
    "    except IndexError:\n",
    "        next_bridge = insum_bridge\n",
    "\n",
    "    if next_bridge <= weight :\n",
    "        in_bridge.pop(0)\n",
    "        try:\n",
    "            in_bridge.append(truck_weights.pop(0))\n",
    "        except IndexError:\n",
    "            in_bridge.append(0)\n",
    "\n",
    "    else :\n",
    "        in_bridge.pop(0)\n",
    "        in_bridge.append(0)\n",
    "\n",
    "    insum_bridge = sum(in_bridge)\n",
    "    count += 1\n"
   ]
  },
  {
   "cell_type": "code",
   "execution_count": 110,
   "metadata": {},
   "outputs": [
    {
     "data": {
      "text/plain": [
       "101"
      ]
     },
     "execution_count": 110,
     "metadata": {},
     "output_type": "execute_result"
    }
   ],
   "source": [
    "count"
   ]
  },
  {
   "cell_type": "markdown",
   "metadata": {},
   "source": [
    "pop으로 풀어봤다. 다음 다리를 미리 계산해서 weight를 넘을 것 같으면 추가함\n",
    "예외 처리를 통해 다리에 아무 것도 없으면 그냥 '0'을 집어 넣도록 해봤다\n",
    "\n",
    "pop으로 푸는거 만만히 봤다가 시간초과/(2,5) 내 이럴줄 알았다.\n",
    "보다 단순화 시키는 알고리즘을 고민해보자"
   ]
  },
  {
   "cell_type": "markdown",
   "metadata": {},
   "source": []
  }
 ],
 "metadata": {
  "interpreter": {
   "hash": "c469c999aae2bf6d578d6881606ced546d1546d312a4811937df5b24665ee8bc"
  },
  "kernelspec": {
   "display_name": "Python 3.8.3 ('base')",
   "language": "python",
   "name": "python3"
  },
  "language_info": {
   "codemirror_mode": {
    "name": "ipython",
    "version": 3
   },
   "file_extension": ".py",
   "mimetype": "text/x-python",
   "name": "python",
   "nbconvert_exporter": "python",
   "pygments_lexer": "ipython3",
   "version": "3.8.3"
  },
  "orig_nbformat": 4
 },
 "nbformat": 4,
 "nbformat_minor": 2
}
