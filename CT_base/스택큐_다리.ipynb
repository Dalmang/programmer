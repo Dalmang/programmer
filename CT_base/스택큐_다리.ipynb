{
 "cells": [
  {
   "cell_type": "code",
   "execution_count": null,
   "metadata": {},
   "outputs": [],
   "source": [
    "import pandas as pd\n",
    "import numpy as np"
   ]
  },
  {
   "cell_type": "code",
   "execution_count": 58,
   "metadata": {},
   "outputs": [],
   "source": [
    "truck_weights = [10]\n",
    "# bridge_length = 100\n",
    "# weight = 100\n",
    "# truck_weights = [10]\n",
    "# return = 101\n",
    "\n",
    "\n",
    "bridge_length = 2\n",
    "weight = 10\n",
    "truck_weights = [7,4,5,6]\n",
    "# return 8"
   ]
  },
  {
   "cell_type": "code",
   "execution_count": 59,
   "metadata": {},
   "outputs": [],
   "source": [
    "in_bridge = list(np.zeros(bridge_length,dtype='i')) #다리 초기길이\n",
    "count = 0\n",
    "insum_bridge = 1\n",
    "skipbri = bridge_length - 2 #skip구간 추가, Next_bridge가 작동하도록 -2로 설정\n",
    "\n",
    "while insum_bridge != 0 :\n",
    "    try:\n",
    "        next_bridge = sum(in_bridge[1:]) + truck_weights[0] #다음에 트럭이 들어갈 수 있는지 예상\n",
    "    except IndexError:\n",
    "        next_bridge = insum_bridge\n",
    "\n",
    "    if next_bridge <= weight :\n",
    "        in_bridge.pop(0)\n",
    "        try:\n",
    "            in_bridge.append(truck_weights.pop(0))\n",
    "        except IndexError:\n",
    "            in_bridge.append(0)\n",
    "\n",
    "    elif skipbri<=0 :\n",
    "        in_bridge.pop(0)\n",
    "        in_bridge.append(0)\n",
    "\n",
    "    else : #brige skip #skip을 다리길이로 하지말고 0을 제거하고 추가하는 방법으로!\n",
    "        skip_bridge = in_bridge[skipbri:]\n",
    "        in_bridge = skip_bridge + list(np.zeros(skipbri,dtype='i'))\n",
    "\n",
    "        count = count + skipbri\n",
    "        \n",
    "\n",
    "    insum_bridge = sum(in_bridge)\n",
    "    count += 1\n"
   ]
  },
  {
   "cell_type": "code",
   "execution_count": 44,
   "metadata": {},
   "outputs": [
    {
     "data": {
      "text/plain": [
       "[0, 7]"
      ]
     },
     "execution_count": 44,
     "metadata": {},
     "output_type": "execute_result"
    }
   ],
   "source": [
    "skip_bridge"
   ]
  },
  {
   "cell_type": "code",
   "execution_count": 60,
   "metadata": {},
   "outputs": [
    {
     "data": {
      "text/plain": [
       "8"
      ]
     },
     "execution_count": 60,
     "metadata": {},
     "output_type": "execute_result"
    }
   ],
   "source": [
    "count"
   ]
  },
  {
   "cell_type": "code",
   "execution_count": 52,
   "metadata": {},
   "outputs": [],
   "source": [
    "# #과거 버전\n",
    "\n",
    "\n",
    "in_bridge = list(np.zeros(bridge_length,dtype='i')) #다리 초기길이\n",
    "count = 0\n",
    "insum_bridge = 1\n",
    "\n",
    "# while insum_bridge != 0 :\n",
    "#     try:\n",
    "#         next_bridge = sum(in_bridge[1:]) + truck_weights[0] #다음에 들어갈 수 있는지 계산\n",
    "#     except IndexError:\n",
    "#         next_bridge = insum_bridge\n",
    "\n",
    "#     if next_bridge <= weight :\n",
    "#         in_bridge.pop(0)\n",
    "#         try:\n",
    "#             in_bridge.append(truck_weights.pop(0))\n",
    "#         except IndexError:\n",
    "#             in_bridge.append(0)\n",
    "\n",
    "#     else :\n",
    "#         in_bridge.pop(0)\n",
    "#         in_bridge.append(0)\n",
    "\n",
    "#     insum_bridge = sum(in_bridge)\n",
    "#     count += 1\n"
   ]
  },
  {
   "cell_type": "markdown",
   "metadata": {},
   "source": [
    "pop으로 풀어봤다. 다음 다리를 미리 계산해서 weight를 넘을 것 같으면 추가함\n",
    "예외 처리를 통해 다리에 아무 것도 없으면 그냥 '0'을 집어 넣도록 해봤다\n",
    "\n",
    "pop으로 푸는거 만만히 봤다가 시간초과/(2,5) 내 이럴줄 알았다.\n",
    "보다 단순화 시키는 알고리즘을 고민해보자 → 빈공간을 While이 아닌 넘기는 로직\n",
    "\n",
    "22.05.10\n",
    "skip기능을 만들었는데 다리가 짧으면 변수가 생긴다. if문을 써야하나..\n",
    "skip을 다리길이가 아닌 앞에 0을 제거하고 그만큼 추가하는 방법으로 재구성 필요!"
   ]
  },
  {
   "cell_type": "code",
   "execution_count": null,
   "metadata": {},
   "outputs": [],
   "source": []
  },
  {
   "cell_type": "code",
   "execution_count": 27,
   "metadata": {},
   "outputs": [
    {
     "data": {
      "text/plain": [
       "[0, 3, 0, 0, 0, 0, 0]"
      ]
     },
     "execution_count": 27,
     "metadata": {},
     "output_type": "execute_result"
    }
   ],
   "source": [
    "#다리 스킵 기능\n",
    "\n",
    "test_list = [0,0,0,0,0,0,3]\n",
    "\n",
    "brilen = len(test_list) #다리길이\n",
    "skipbri = brilen - 2 #두번째 텀까지\n",
    "\n",
    "test_val = test_list[skipbri:]\n",
    "test_val+list(np.zeros(skipbri,dtype='i'))"
   ]
  },
  {
   "cell_type": "code",
   "execution_count": 28,
   "metadata": {},
   "outputs": [
    {
     "data": {
      "text/plain": [
       "5"
      ]
     },
     "execution_count": 28,
     "metadata": {},
     "output_type": "execute_result"
    }
   ],
   "source": [
    "skipbri"
   ]
  },
  {
   "cell_type": "code",
   "execution_count": null,
   "metadata": {},
   "outputs": [],
   "source": []
  }
 ],
 "metadata": {
  "interpreter": {
   "hash": "1cca9558bc5ad879ec93cc030b157d75f18267527c60932cecaace349eef54dd"
  },
  "kernelspec": {
   "display_name": "Python 3.8.3 ('base')",
   "language": "python",
   "name": "python3"
  },
  "language_info": {
   "codemirror_mode": {
    "name": "ipython",
    "version": 3
   },
   "file_extension": ".py",
   "mimetype": "text/x-python",
   "name": "python",
   "nbconvert_exporter": "python",
   "pygments_lexer": "ipython3",
   "version": "3.8.3"
  },
  "orig_nbformat": 4
 },
 "nbformat": 4,
 "nbformat_minor": 2
}
