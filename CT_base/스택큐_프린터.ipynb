{
 "cells": [
  {
   "cell_type": "code",
   "execution_count": 1,
   "metadata": {},
   "outputs": [],
   "source": [
    "import pandas as pd\n",
    "import numpy as np"
   ]
  },
  {
   "cell_type": "code",
   "execution_count": 14,
   "metadata": {},
   "outputs": [],
   "source": [
    "priorities1 = [2, 1, 3, 2]\n",
    "location1 = 2\n",
    "#return = 1\n",
    "\n",
    "priorities2 = [1, 1, 9, 1, 1, 1]\n",
    "location2 = 0\n",
    "#return = 5\n",
    "\n",
    "pri = [2, 4, 8, 2, 9, 3, 3]\n",
    "loc = 4"
   ]
  },
  {
   "cell_type": "code",
   "execution_count": 15,
   "metadata": {},
   "outputs": [],
   "source": [
    "df_pri = pd.DataFrame(pri,columns=['pri'])\n",
    "\n",
    "pri_set = list(set(pri))\n",
    "pri_set.sort(reverse=True) #중요도 요소값 추출\n",
    "\n",
    "weghit = np.zeros(len(pri)) #weghit 초기화"
   ]
  },
  {
   "cell_type": "code",
   "execution_count": 16,
   "metadata": {},
   "outputs": [
    {
     "name": "stderr",
     "output_type": "stream",
     "text": [
      "C:\\Users\\PC\\anaconda3\\lib\\site-packages\\pandas\\core\\indexing.py:671: SettingWithCopyWarning: \n",
      "A value is trying to be set on a copy of a slice from a DataFrame\n",
      "\n",
      "See the caveats in the documentation: https://pandas.pydata.org/pandas-docs/stable/user_guide/indexing.html#returning-a-view-versus-a-copy\n",
      "  self._setitem_with_indexer(indexer, value)\n"
     ]
    }
   ],
   "source": [
    "printer = df_pri[df_pri==pri_set[0]].dropna()\n",
    "wend = df_pri[df_pri==pri_set[0]].dropna().index[-1]\n",
    "\n",
    "df_pri['ind'] = weghit #현재 weghit 넣어주기\n",
    "df_pri['ind'].loc[:wend] = -1 #index찾아서 weghit 감소 시키기\n",
    "\n",
    "##정렬\n",
    "for i in pri_set[1:]:\n",
    "\n",
    "    df_ind_sort = df_pri.sort_values(by=['ind'],ascending=False) #weghit기준으로 재정렬\n",
    "\n",
    "    df_sort = df_ind_sort['pri'][df_ind_sort['pri']==i].dropna() #현재값 넣기\n",
    "    wend = df_pri['pri'][df_pri['pri']==i].dropna().index[-1] #현재값 끝부분 찾기\n",
    "\n",
    "    weghit = np.zeros(len(df_pri)) #weghit 초기\n",
    "    df_pri['ind'] = weghit #현재 weghit 넣어주기\n",
    "    df_pri['ind'].loc[:wend] = -1 #index찾아서 weghit 감소 시키기\n",
    "\n",
    "    df_pri = df_ind_sort[df_ind_sort['pri']!=i] # (new)순서 재정렬\n",
    "    df_sort = pd.DataFrame(df_sort)\n",
    "    printer = pd.concat([printer,df_sort]) #같은 중요도끼리 순서 정해서 쌓기\n",
    "\n",
    "#위치 찾기\n",
    "\n",
    "inddetec = pd.DataFrame(printer.index)\n",
    "loc_return = inddetec[inddetec==loc].dropna().index[0]+1 #위치 탐색\n"
   ]
  },
  {
   "cell_type": "code",
   "execution_count": 17,
   "metadata": {},
   "outputs": [],
   "source": [
    "# 과거 버전 - 정렬 순서가 리셋되지 않는 정도\n",
    "\n",
    "    # df_pri['ind'] = weghit\n",
    "    # df_sort = df_pri.sort_values(by=['ind'],ascending=False)\n",
    "    # df_sort = df_sort['pri'][df_sort['pri']==i].dropna()\n",
    "    # df_sort = pd.DataFrame(df_sort)\n",
    "\n",
    "    # printer = pd.concat([printer,df_sort]) #같은 중요도끼리 순서 정해서 쌓기\n",
    "\n",
    "    # wend = df_pri['pri'][df_pri['pri']==i].dropna().index[-1]\n",
    "    # weghit = np.zeros(len(pri)) #weghit 초기화\n"
   ]
  },
  {
   "cell_type": "code",
   "execution_count": 18,
   "metadata": {},
   "outputs": [
    {
     "data": {
      "text/html": [
       "<div>\n",
       "<style scoped>\n",
       "    .dataframe tbody tr th:only-of-type {\n",
       "        vertical-align: middle;\n",
       "    }\n",
       "\n",
       "    .dataframe tbody tr th {\n",
       "        vertical-align: top;\n",
       "    }\n",
       "\n",
       "    .dataframe thead th {\n",
       "        text-align: right;\n",
       "    }\n",
       "</style>\n",
       "<table border=\"1\" class=\"dataframe\">\n",
       "  <thead>\n",
       "    <tr style=\"text-align: right;\">\n",
       "      <th></th>\n",
       "      <th>pri</th>\n",
       "    </tr>\n",
       "  </thead>\n",
       "  <tbody>\n",
       "    <tr>\n",
       "      <th>4</th>\n",
       "      <td>9.0</td>\n",
       "    </tr>\n",
       "    <tr>\n",
       "      <th>2</th>\n",
       "      <td>8.0</td>\n",
       "    </tr>\n",
       "    <tr>\n",
       "      <th>1</th>\n",
       "      <td>4.0</td>\n",
       "    </tr>\n",
       "    <tr>\n",
       "      <th>5</th>\n",
       "      <td>3.0</td>\n",
       "    </tr>\n",
       "    <tr>\n",
       "      <th>6</th>\n",
       "      <td>3.0</td>\n",
       "    </tr>\n",
       "    <tr>\n",
       "      <th>0</th>\n",
       "      <td>2.0</td>\n",
       "    </tr>\n",
       "    <tr>\n",
       "      <th>3</th>\n",
       "      <td>2.0</td>\n",
       "    </tr>\n",
       "  </tbody>\n",
       "</table>\n",
       "</div>"
      ],
      "text/plain": [
       "   pri\n",
       "4  9.0\n",
       "2  8.0\n",
       "1  4.0\n",
       "5  3.0\n",
       "6  3.0\n",
       "0  2.0\n",
       "3  2.0"
      ]
     },
     "execution_count": 18,
     "metadata": {},
     "output_type": "execute_result"
    }
   ],
   "source": [
    "printer"
   ]
  },
  {
   "cell_type": "code",
   "execution_count": 19,
   "metadata": {},
   "outputs": [
    {
     "data": {
      "text/plain": [
       "1"
      ]
     },
     "execution_count": 19,
     "metadata": {},
     "output_type": "execute_result"
    }
   ],
   "source": [
    "int(loc_return) #numpy int 문제 해결\n",
    "\n",
    "##이번에는 뭐가 문제일까\n",
    "# 못 푸는 테스트 케이스가 있다.. ㅂㄷㅂㄷ"
   ]
  },
  {
   "cell_type": "markdown",
   "metadata": {},
   "source": [
    "## 다른사람들 풀이"
   ]
  },
  {
   "cell_type": "markdown",
   "metadata": {},
   "source": []
  }
 ],
 "metadata": {
  "interpreter": {
   "hash": "b8f652633f90b6094fd9a5994813d9288173da33c91c5e9629ffae8e5d449474"
  },
  "kernelspec": {
   "display_name": "Python 3.9.10 64-bit (windows store)",
   "language": "python",
   "name": "python3"
  },
  "language_info": {
   "codemirror_mode": {
    "name": "ipython",
    "version": 3
   },
   "file_extension": ".py",
   "mimetype": "text/x-python",
   "name": "python",
   "nbconvert_exporter": "python",
   "pygments_lexer": "ipython3",
   "version": "3.8.3"
  },
  "orig_nbformat": 4
 },
 "nbformat": 4,
 "nbformat_minor": 2
}
