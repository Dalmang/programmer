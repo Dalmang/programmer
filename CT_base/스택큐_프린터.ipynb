{
 "cells": [
  {
   "cell_type": "code",
   "execution_count": 167,
   "metadata": {},
   "outputs": [],
   "source": [
    "import pandas as pd\n",
    "import numpy as np"
   ]
  },
  {
   "cell_type": "code",
   "execution_count": 168,
   "metadata": {},
   "outputs": [],
   "source": [
    "priorities1 = [2, 1, 3, 2]\n",
    "location1 = 2\n",
    "#return = 1\n",
    "\n",
    "priorities2 = [1, 1, 9, 1, 1, 1]\n",
    "location2 = 0\n",
    "#return = 5\n",
    "\n",
    "pri = priorities1\n",
    "loc = location1"
   ]
  },
  {
   "cell_type": "code",
   "execution_count": 169,
   "metadata": {},
   "outputs": [],
   "source": [
    "df_pri = pd.DataFrame(pri,columns=['pri'])\n",
    "\n",
    "pri_set = list(set(pri))\n",
    "pri_set.sort(reverse=True) #중요도 요소값 추출\n",
    "\n",
    "weghit = np.zeros(len(pri)) #weghit 초기화"
   ]
  },
  {
   "cell_type": "code",
   "execution_count": 170,
   "metadata": {},
   "outputs": [],
   "source": [
    "printer = df_pri[df_pri==pri_set[0]].dropna()\n",
    "wend = df_pri[df_pri==pri_set[0]].dropna().index[-1]\n",
    "\n",
    "##정렬\n",
    "for i in pri_set[1:]:\n",
    "    weghit[:wend] = -1 #이전 중요도 끝부분 이전 값 weghit 감소\n",
    "\n",
    "    df_pri['ind'] = weghit\n",
    "    df_sort = df_pri.sort_values(by=['ind'],ascending=False)\n",
    "    df_sort = df_sort['pri'][df_sort['pri']==i].dropna()\n",
    "    df_sort = pd.DataFrame(df_sort)\n",
    "\n",
    "    printer = pd.concat([printer,df_sort]) #같은 중요도끼리 순서 정해서 쌓기\n",
    "\n",
    "    wend = df_pri['pri'][df_pri['pri']==i].dropna().index[-1]\n",
    "    weghit = np.zeros(len(pri)) #weghit 초기화\n",
    "\n",
    "#위치 찾기\n",
    "\n",
    "inddetec = pd.DataFrame(printer.index)\n",
    "loc_return = inddetec[inddetec==loc].dropna().index[0]+1 #위치 탐색\n"
   ]
  },
  {
   "cell_type": "code",
   "execution_count": 175,
   "metadata": {},
   "outputs": [
    {
     "data": {
      "text/plain": [
       "1"
      ]
     },
     "execution_count": 175,
     "metadata": {},
     "output_type": "execute_result"
    }
   ],
   "source": [
    "int(loc_return) #numpy int 문제 해결\n",
    "\n",
    "##이번에는 뭐가 문제일까\n",
    "# 못 푸는 테스트 케이스가 있다.. ㅂㄷㅂㄷ"
   ]
  },
  {
   "cell_type": "markdown",
   "metadata": {},
   "source": [
    "## 다른사람들 풀이"
   ]
  },
  {
   "cell_type": "markdown",
   "metadata": {},
   "source": []
  }
 ],
 "metadata": {
  "interpreter": {
   "hash": "b8f652633f90b6094fd9a5994813d9288173da33c91c5e9629ffae8e5d449474"
  },
  "kernelspec": {
   "display_name": "Python 3.9.10 64-bit (windows store)",
   "language": "python",
   "name": "python3"
  },
  "language_info": {
   "codemirror_mode": {
    "name": "ipython",
    "version": 3
   },
   "file_extension": ".py",
   "mimetype": "text/x-python",
   "name": "python",
   "nbconvert_exporter": "python",
   "pygments_lexer": "ipython3",
   "version": "3.9.10"
  },
  "orig_nbformat": 4
 },
 "nbformat": 4,
 "nbformat_minor": 2
}
