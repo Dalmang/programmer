{
 "cells": [
  {
   "cell_type": "code",
   "execution_count": 2,
   "metadata": {},
   "outputs": [],
   "source": [
    "import pandas as pd"
   ]
  },
  {
   "cell_type": "code",
   "execution_count": 46,
   "metadata": {},
   "outputs": [],
   "source": [
    "#genres = [\"classic\", \"pop\", \"classic\", \"classic\", \"pop\"]\n",
    "#Plays = [500, 600, 150, 800, 2500]\n",
    "\n",
    "#test case2\n",
    "#genres = ['a','b','c','d','a','d','d','d','a','a','c','c']\n",
    "#Plays = [100,300,400,150,100,300,200,600,700,110,900,9000]\n",
    "#result : [11,10,8,9,7,5,1]\n",
    "\n",
    "#test case3\n",
    "genres = [\"classic\", \"pop\", \"classic\", \"classic\", \"pop\", \"test\"]\n",
    "Plays = [500, 600, 150, 800, 2500, 100]\n",
    "#[4, 1, 3, 0, 5]"
   ]
  },
  {
   "cell_type": "code",
   "execution_count": 47,
   "metadata": {},
   "outputs": [],
   "source": [
    "df_music = pd.DataFrame([genres,Plays])\n",
    "\n",
    "df_music = df_music.T\n",
    "df_music.columns = [\"gen\",\"ply\"]\n",
    "\n",
    "df_music_sort = df_music.sort_values(by=[\"ply\"],ascending=False)"
   ]
  },
  {
   "cell_type": "code",
   "execution_count": 48,
   "metadata": {},
   "outputs": [],
   "source": [
    "Genr = list(df_music.groupby('gen').sum().sort_values(by=[\"ply\"],ascending=False)['ply'].index) #최대 재생횟수 장르 순서대로 추출"
   ]
  },
  {
   "cell_type": "code",
   "execution_count": 49,
   "metadata": {},
   "outputs": [],
   "source": [
    "df_second = pd.DataFrame()\n",
    "\n",
    "for g in Genr :\n",
    "    val_df = df_music_sort[df_music_sort[\"gen\"]==g][:2]\n",
    "    df_second = pd.concat([df_second,val_df],axis=0)"
   ]
  },
  {
   "cell_type": "code",
   "execution_count": 50,
   "metadata": {},
   "outputs": [
    {
     "data": {
      "text/plain": [
       "[4, 1, 3, 0, 5]"
      ]
     },
     "execution_count": 50,
     "metadata": {},
     "output_type": "execute_result"
    }
   ],
   "source": [
    "list(df_second.index)"
   ]
  },
  {
   "cell_type": "markdown",
   "metadata": {},
   "source": [
    "5-14test 작동을 안함. 뭘 빼먹은걸까??\n",
    "장르가 1개일 때 작동(o)  \n",
    "장르가 여러개 일때 작동(o)  \n",
    "장르내 ply의 총합이 가장 큰 값이 위로 가야함!  \n",
    "-> list(df_music.groupby('gen').sum().sort_values(by=[\"ply\"],ascending=False)['ply'].index)\n",
    "\n",
    "해시란 무엇인가.. Pandas에서 dictionary의 Key는 column중 하나인 것인가?"
   ]
  },
  {
   "cell_type": "markdown",
   "metadata": {},
   "source": [
    "## 다른사람들 풀이"
   ]
  },
  {
   "cell_type": "code",
   "execution_count": null,
   "metadata": {},
   "outputs": [],
   "source": []
  }
 ],
 "metadata": {
  "interpreter": {
   "hash": "b3ba2566441a7c06988d0923437866b63cedc61552a5af99d1f4fb67d367b25f"
  },
  "kernelspec": {
   "display_name": "Python 3.9.7 ('base')",
   "language": "python",
   "name": "python3"
  },
  "language_info": {
   "codemirror_mode": {
    "name": "ipython",
    "version": 3
   },
   "file_extension": ".py",
   "mimetype": "text/x-python",
   "name": "python",
   "nbconvert_exporter": "python",
   "pygments_lexer": "ipython3",
   "version": "3.9.7"
  },
  "orig_nbformat": 4
 },
 "nbformat": 4,
 "nbformat_minor": 2
}
