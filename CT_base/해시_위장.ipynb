{
 "cells": [
  {
   "cell_type": "code",
   "execution_count": 40,
   "metadata": {},
   "outputs": [],
   "source": [
    "import pandas as pd\n",
    "import numpy as np\n",
    "import collections\n",
    "# from functools import reduce"
   ]
  },
  {
   "cell_type": "code",
   "execution_count": 78,
   "metadata": {},
   "outputs": [],
   "source": [
    "clothes1 = [[\"yellowhat\", \"headgear\"], [\"bluesunglasses\", \"eyewear\"], [\"green_turban\", \"headgear\"]]\n",
    "clothes2 = [[\"crowmask\", \"face\"], [\"bluesunglasses\", \"face\"], [\"smoky_makeup\", \"face\"]]\n",
    "\n",
    "clothes = clothes1"
   ]
  },
  {
   "cell_type": "code",
   "execution_count": 77,
   "metadata": {},
   "outputs": [],
   "source": [
    "def solution(clothes):\n",
    "    \n",
    "    clotype = list(map(lambda x : x[1], clothes))\n",
    "    answer = int(np.cumprod(np.array(list(collections.Counter(clotype).values()))+1)[-1:])-1\n",
    "    #의상종류 + 빈공간의 누적곱 - 1\n",
    "    #빈공간은 해당 의상종류를 안 입는 경우, 따라서 아무것도 안 입는 경우를 제거 \n",
    "\n",
    "    return answer"
   ]
  },
  {
   "cell_type": "markdown",
   "metadata": {},
   "source": [
    "## 다른사람 풀이"
   ]
  },
  {
   "cell_type": "markdown",
   "metadata": {},
   "source": [
    "eval을 활용한 풀이방법, 나는 수식을 구상하고서 관련 numpy함수만 찾고 있었다."
   ]
  },
  {
   "cell_type": "code",
   "execution_count": null,
   "metadata": {},
   "outputs": [],
   "source": [
    "def solution(c):\n",
    "    return eval(\"*\".join([str([k[1] for k in c].count(i)+1) for i in set([i[1] for i in c])]))-1"
   ]
  },
  {
   "cell_type": "markdown",
   "metadata": {},
   "source": [
    "해쉬를 활용한 방법을 못 찾음. 대부분 조합식이나 for문으로 해결"
   ]
  }
 ],
 "metadata": {
  "interpreter": {
   "hash": "f811d9bace6ae5ffb664bdf1a107f4fac4e0e055fcb9ac98ea4be4e8b9330f8c"
  },
  "kernelspec": {
   "display_name": "Python 3.9.7 64-bit ('ocr2': conda)",
   "language": "python",
   "name": "python3"
  },
  "language_info": {
   "codemirror_mode": {
    "name": "ipython",
    "version": 3
   },
   "file_extension": ".py",
   "mimetype": "text/x-python",
   "name": "python",
   "nbconvert_exporter": "python",
   "pygments_lexer": "ipython3",
   "version": "3.9.10"
  },
  "orig_nbformat": 4
 },
 "nbformat": 4,
 "nbformat_minor": 2
}
