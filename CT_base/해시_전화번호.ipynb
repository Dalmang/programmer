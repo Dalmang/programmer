{
 "cells": [
  {
   "cell_type": "code",
   "execution_count": 260,
   "metadata": {},
   "outputs": [],
   "source": [
    "import pandas as pd\n",
    "import json"
   ]
  },
  {
   "cell_type": "code",
   "execution_count": 256,
   "metadata": {},
   "outputs": [],
   "source": [
    "phone_book_1 = [\"119\", \"97674223\", \"1195524421\"]\n",
    "phone_book_2 = [\"123\",\"456\",\"789\"]\n",
    "phone_book_3 = [\"14\",\"123\",\"1235\",\"257\",\"88\"]\n",
    "\n",
    "phone_book_1 = pd.DataFrame(phone_book_1)[0]\n",
    "phone_book_2 = pd.DataFrame(phone_book_2)[0]\n",
    "phone_book_3 = pd.DataFrame(phone_book_3)[0]\n",
    "\n",
    "phone_book = phone_book_2"
   ]
  },
  {
   "cell_type": "code",
   "execution_count": 282,
   "metadata": {},
   "outputs": [],
   "source": [
    "def solution(phone_book):\n",
    "\n",
    "    count_cy = 1\n",
    "    end_wh = 0\n",
    "\n",
    "    while count_cy != end_wh :\n",
    "\n",
    "        n_num = list(map(lambda x:x[:count_cy],phone_book)) # n번째 문자열 추출\n",
    "        duple_num = pd.DataFrame(n_num).duplicated(keep=False) #keep을 통해 위치 탐색\n",
    "\n",
    "        count_duple = duple_num.sum()\n",
    "\n",
    "        if count_duple >=2 :\n",
    "            end_wh = min(pd.DataFrame(map(len,phone_book))[0][duple_num])+1\n",
    "        else :\n",
    "            end_wh = 2\n",
    "\n",
    "        an_count = count_duple >=2\n",
    "        answer = an_count==False\n",
    "        #answer = json.dumps({bool(answer)}) #numpy bool 변환방법 탐색 필요\n",
    "        answer = bool(answer) #TypeError: Object of type bool_ is not JSON serializable, numpy bool_ 에러 해결\n",
    "        count_cy += 1\n",
    "\n",
    "    return answer"
   ]
  },
  {
   "cell_type": "code",
   "execution_count": 281,
   "metadata": {},
   "outputs": [
    {
     "data": {
      "text/plain": [
       "True"
      ]
     },
     "execution_count": 281,
     "metadata": {},
     "output_type": "execute_result"
    }
   ],
   "source": [
    "solution(phone_book_2)"
   ]
  },
  {
   "cell_type": "markdown",
   "metadata": {},
   "source": [
    "while로 알고리즘이 시간 초과가 많이됨..ㅜ"
   ]
  }
 ],
 "metadata": {
  "interpreter": {
   "hash": "c469c999aae2bf6d578d6881606ced546d1546d312a4811937df5b24665ee8bc"
  },
  "kernelspec": {
   "display_name": "Python 3.8.3 64-bit ('base': conda)",
   "language": "python",
   "name": "python3"
  },
  "language_info": {
   "codemirror_mode": {
    "name": "ipython",
    "version": 3
   },
   "file_extension": ".py",
   "mimetype": "text/x-python",
   "name": "python",
   "nbconvert_exporter": "python",
   "pygments_lexer": "ipython3",
   "version": "3.8.3"
  },
  "orig_nbformat": 4
 },
 "nbformat": 4,
 "nbformat_minor": 2
}
